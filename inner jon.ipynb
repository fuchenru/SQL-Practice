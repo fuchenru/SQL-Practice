{
 "cells": [
  {
   "attachments": {},
   "cell_type": "markdown",
   "metadata": {},
   "source": [
    "The inner join returns only the rows that have matching values in both tables. It compares each row in the first table with each row in the second table, and only returns the rows where the value in the common column matches.\n",
    "\n",
    "The syntax for an inner join in SQL is as follows:"
   ]
  },
  {
   "cell_type": "code",
   "execution_count": null,
   "metadata": {
    "vscode": {
     "languageId": "sql"
    }
   },
   "outputs": [],
   "source": [
    "SELECT column1, column2, ...\n",
    "FROM table1\n",
    "INNER JOIN table2\n",
    "ON table1.common_column = table2.common_column;"
   ]
  },
  {
   "attachments": {},
   "cell_type": "markdown",
   "metadata": {},
   "source": [
    "In this syntax, table1 and table2 are the names of the tables to be joined, and common_column is the name of the column that they have in common. The ON keyword specifies the condition for the join, which in this case is that the values in the common column are equal.\n",
    "\n",
    "For example, let's say we have two tables called employees and departments, and they both have a common column called department_id. We can use an inner join to combine the data from these tables based on the department_id column, like this:"
   ]
  },
  {
   "cell_type": "code",
   "execution_count": null,
   "metadata": {
    "vscode": {
     "languageId": "sql"
    }
   },
   "outputs": [],
   "source": [
    "SELECT employees.first_name, employees.last_name, departments.department_name\n",
    "FROM employees\n",
    "INNER JOIN departments\n",
    "ON employees.department_id = departments.department_id;"
   ]
  },
  {
   "attachments": {},
   "cell_type": "markdown",
   "metadata": {},
   "source": [
    "This query would return the first name and last name of each employee, along with the name of the department they work in. Only the rows where the department_id values match in both tables would be returned."
   ]
  }
 ],
 "metadata": {
  "language_info": {
   "name": "python"
  },
  "orig_nbformat": 4
 },
 "nbformat": 4,
 "nbformat_minor": 2
}
