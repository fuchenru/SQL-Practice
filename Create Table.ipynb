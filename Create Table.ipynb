{
 "cells": [
  {
   "cell_type": "code",
   "execution_count": null,
   "metadata": {},
   "outputs": [],
   "source": [
    "# create table\n",
    "# INT: Whole Number\n",
    "# DECIMAL(M,N): Total number of digits, Number of digits that can be stored after the decimal point\n",
    "# VARCHAR(1): String of text of length of 1\n",
    "# BLOB: Binary large object\n",
    "# DATE: 'YYYY-MM-DD'\n",
    "# TIMESTAMP: 'YYYY-MM-DD HH:MM:SS'\n",
    "\n",
    "CREATE TABLE student (\n",
    "    # columns, types\n",
    "    student_id INT,\n",
    "    name VARCHAR(20),\n",
    "    major VARCHAR(20),\n",
    "    PRIMARY KEY(student_id)\n",
    ");\n",
    "\n",
    "DESCRIBE student;\n",
    "\n",
    "DROP TABLE student;\n",
    "\n",
    "# Decimal numbers with up to 3 digits in total, and 2 digits after the decimal point\n",
    "# For example: 1.23, 0.01, 123.45\n",
    "ALTER TABLE student ADD gpa DECIMAL(3,2);\n",
    "\n",
    "ALTER TABLE student DROP gpa;"
   ]
  }
 ],
 "metadata": {
  "language_info": {
   "name": "python"
  },
  "orig_nbformat": 4
 },
 "nbformat": 4,
 "nbformat_minor": 2
}
